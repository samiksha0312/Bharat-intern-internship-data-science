{
 "cells": [
  {
   "cell_type": "code",
   "execution_count": 1,
   "id": "4d04a456",
   "metadata": {
    "_cell_guid": "b1076dfc-b9ad-4769-8c92-a6c4dae69d19",
    "_uuid": "8f2839f25d086af736a60e9eeb907d3b93b6e0e5",
    "execution": {
     "iopub.execute_input": "2024-03-15T08:42:39.526111Z",
     "iopub.status.busy": "2024-03-15T08:42:39.525704Z",
     "iopub.status.idle": "2024-03-15T08:42:40.487088Z",
     "shell.execute_reply": "2024-03-15T08:42:40.485837Z"
    },
    "papermill": {
     "duration": 0.977612,
     "end_time": "2024-03-15T08:42:40.489563",
     "exception": false,
     "start_time": "2024-03-15T08:42:39.511951",
     "status": "completed"
    },
    "tags": []
   },
   "outputs": [
    {
     "name": "stdout",
     "output_type": "stream",
     "text": [
      "/kaggle/input/titanic/train.csv\n",
      "/kaggle/input/titanic/test.csv\n",
      "/kaggle/input/titanic/gender_submission.csv\n"
     ]
    }
   ],
   "source": [
    "# This Python 3 environment comes with many helpful analytics libraries installed\n",
    "# It is defined by the kaggle/python Docker image: https://github.com/kaggle/docker-python\n",
    "# For example, here's several helpful packages to load\n",
    "\n",
    "import numpy as np # linear algebra\n",
    "import pandas as pd # data processing, CSV file I/O (e.g. pd.read_csv)\n",
    "\n",
    "# Input data files are available in the read-only \"../input/\" directory\n",
    "# For example, running this (by clicking run or pressing Shift+Enter) will list all files under the input directory\n",
    "\n",
    "import os\n",
    "for dirname, _, filenames in os.walk('/kaggle/input'):\n",
    "    for filename in filenames:\n",
    "        print(os.path.join(dirname, filename))\n",
    "\n",
    "# You can write up to 20GB to the current directory (/kaggle/working/) that gets preserved as output when you create a version using \"Save & Run All\" \n",
    "# You can also write temporary files to /kaggle/temp/, but they won't be saved outside of the current session"
   ]
  },
  {
   "cell_type": "code",
   "execution_count": 2,
   "id": "b0183e80",
   "metadata": {
    "execution": {
     "iopub.execute_input": "2024-03-15T08:42:40.515466Z",
     "iopub.status.busy": "2024-03-15T08:42:40.514942Z",
     "iopub.status.idle": "2024-03-15T08:42:42.008212Z",
     "shell.execute_reply": "2024-03-15T08:42:42.006629Z"
    },
    "papermill": {
     "duration": 1.509678,
     "end_time": "2024-03-15T08:42:42.011340",
     "exception": false,
     "start_time": "2024-03-15T08:42:40.501662",
     "status": "completed"
    },
    "tags": []
   },
   "outputs": [],
   "source": [
    "import numpy as np\n",
    "import pandas as pd\n",
    "from pandas import DataFrame\n",
    "import matplotlib as mpl\n",
    "import matplotlib.pyplot as plt\n",
    "import seaborn as sns\n",
    "%matplotlib inline"
   ]
  },
  {
   "cell_type": "code",
   "execution_count": 3,
   "id": "a96e5964",
   "metadata": {
    "execution": {
     "iopub.execute_input": "2024-03-15T08:42:42.036930Z",
     "iopub.status.busy": "2024-03-15T08:42:42.036106Z",
     "iopub.status.idle": "2024-03-15T08:42:42.082502Z",
     "shell.execute_reply": "2024-03-15T08:42:42.081404Z"
    },
    "papermill": {
     "duration": 0.061878,
     "end_time": "2024-03-15T08:42:42.085044",
     "exception": false,
     "start_time": "2024-03-15T08:42:42.023166",
     "status": "completed"
    },
    "tags": []
   },
   "outputs": [
    {
     "data": {
      "text/html": [
       "<div>\n",
       "<style scoped>\n",
       "    .dataframe tbody tr th:only-of-type {\n",
       "        vertical-align: middle;\n",
       "    }\n",
       "\n",
       "    .dataframe tbody tr th {\n",
       "        vertical-align: top;\n",
       "    }\n",
       "\n",
       "    .dataframe thead th {\n",
       "        text-align: right;\n",
       "    }\n",
       "</style>\n",
       "<table border=\"1\" class=\"dataframe\">\n",
       "  <thead>\n",
       "    <tr style=\"text-align: right;\">\n",
       "      <th></th>\n",
       "      <th>PassengerId</th>\n",
       "      <th>Survived</th>\n",
       "      <th>Pclass</th>\n",
       "      <th>Name</th>\n",
       "      <th>Sex</th>\n",
       "      <th>Age</th>\n",
       "      <th>SibSp</th>\n",
       "      <th>Parch</th>\n",
       "      <th>Ticket</th>\n",
       "      <th>Fare</th>\n",
       "      <th>Cabin</th>\n",
       "      <th>Embarked</th>\n",
       "    </tr>\n",
       "  </thead>\n",
       "  <tbody>\n",
       "    <tr>\n",
       "      <th>0</th>\n",
       "      <td>1</td>\n",
       "      <td>0</td>\n",
       "      <td>3</td>\n",
       "      <td>Braund, Mr. Owen Harris</td>\n",
       "      <td>male</td>\n",
       "      <td>22.0</td>\n",
       "      <td>1</td>\n",
       "      <td>0</td>\n",
       "      <td>A/5 21171</td>\n",
       "      <td>7.2500</td>\n",
       "      <td>NaN</td>\n",
       "      <td>S</td>\n",
       "    </tr>\n",
       "    <tr>\n",
       "      <th>1</th>\n",
       "      <td>2</td>\n",
       "      <td>1</td>\n",
       "      <td>1</td>\n",
       "      <td>Cumings, Mrs. John Bradley (Florence Briggs Th...</td>\n",
       "      <td>female</td>\n",
       "      <td>38.0</td>\n",
       "      <td>1</td>\n",
       "      <td>0</td>\n",
       "      <td>PC 17599</td>\n",
       "      <td>71.2833</td>\n",
       "      <td>C85</td>\n",
       "      <td>C</td>\n",
       "    </tr>\n",
       "    <tr>\n",
       "      <th>2</th>\n",
       "      <td>3</td>\n",
       "      <td>1</td>\n",
       "      <td>3</td>\n",
       "      <td>Heikkinen, Miss. Laina</td>\n",
       "      <td>female</td>\n",
       "      <td>26.0</td>\n",
       "      <td>0</td>\n",
       "      <td>0</td>\n",
       "      <td>STON/O2. 3101282</td>\n",
       "      <td>7.9250</td>\n",
       "      <td>NaN</td>\n",
       "      <td>S</td>\n",
       "    </tr>\n",
       "    <tr>\n",
       "      <th>3</th>\n",
       "      <td>4</td>\n",
       "      <td>1</td>\n",
       "      <td>1</td>\n",
       "      <td>Futrelle, Mrs. Jacques Heath (Lily May Peel)</td>\n",
       "      <td>female</td>\n",
       "      <td>35.0</td>\n",
       "      <td>1</td>\n",
       "      <td>0</td>\n",
       "      <td>113803</td>\n",
       "      <td>53.1000</td>\n",
       "      <td>C123</td>\n",
       "      <td>S</td>\n",
       "    </tr>\n",
       "    <tr>\n",
       "      <th>4</th>\n",
       "      <td>5</td>\n",
       "      <td>0</td>\n",
       "      <td>3</td>\n",
       "      <td>Allen, Mr. William Henry</td>\n",
       "      <td>male</td>\n",
       "      <td>35.0</td>\n",
       "      <td>0</td>\n",
       "      <td>0</td>\n",
       "      <td>373450</td>\n",
       "      <td>8.0500</td>\n",
       "      <td>NaN</td>\n",
       "      <td>S</td>\n",
       "    </tr>\n",
       "  </tbody>\n",
       "</table>\n",
       "</div>"
      ],
      "text/plain": [
       "   PassengerId  Survived  Pclass  \\\n",
       "0            1         0       3   \n",
       "1            2         1       1   \n",
       "2            3         1       3   \n",
       "3            4         1       1   \n",
       "4            5         0       3   \n",
       "\n",
       "                                                Name     Sex   Age  SibSp  \\\n",
       "0                            Braund, Mr. Owen Harris    male  22.0      1   \n",
       "1  Cumings, Mrs. John Bradley (Florence Briggs Th...  female  38.0      1   \n",
       "2                             Heikkinen, Miss. Laina  female  26.0      0   \n",
       "3       Futrelle, Mrs. Jacques Heath (Lily May Peel)  female  35.0      1   \n",
       "4                           Allen, Mr. William Henry    male  35.0      0   \n",
       "\n",
       "   Parch            Ticket     Fare Cabin Embarked  \n",
       "0      0         A/5 21171   7.2500   NaN        S  \n",
       "1      0          PC 17599  71.2833   C85        C  \n",
       "2      0  STON/O2. 3101282   7.9250   NaN        S  \n",
       "3      0            113803  53.1000  C123        S  \n",
       "4      0            373450   8.0500   NaN        S  "
      ]
     },
     "execution_count": 3,
     "metadata": {},
     "output_type": "execute_result"
    }
   ],
   "source": [
    "## Load Data Frame\n",
    "df = pd.read_csv('/kaggle/input/titanic/train.csv')\n",
    "df.head(5)"
   ]
  },
  {
   "cell_type": "code",
   "execution_count": 4,
   "id": "6110490b",
   "metadata": {
    "execution": {
     "iopub.execute_input": "2024-03-15T08:42:42.111961Z",
     "iopub.status.busy": "2024-03-15T08:42:42.111532Z",
     "iopub.status.idle": "2024-03-15T08:42:42.152897Z",
     "shell.execute_reply": "2024-03-15T08:42:42.151705Z"
    },
    "papermill": {
     "duration": 0.058015,
     "end_time": "2024-03-15T08:42:42.155746",
     "exception": false,
     "start_time": "2024-03-15T08:42:42.097731",
     "status": "completed"
    },
    "tags": []
   },
   "outputs": [
    {
     "data": {
      "text/html": [
       "<div>\n",
       "<style scoped>\n",
       "    .dataframe tbody tr th:only-of-type {\n",
       "        vertical-align: middle;\n",
       "    }\n",
       "\n",
       "    .dataframe tbody tr th {\n",
       "        vertical-align: top;\n",
       "    }\n",
       "\n",
       "    .dataframe thead th {\n",
       "        text-align: right;\n",
       "    }\n",
       "</style>\n",
       "<table border=\"1\" class=\"dataframe\">\n",
       "  <thead>\n",
       "    <tr style=\"text-align: right;\">\n",
       "      <th></th>\n",
       "      <th>PassengerId</th>\n",
       "      <th>Survived</th>\n",
       "      <th>Pclass</th>\n",
       "      <th>Age</th>\n",
       "      <th>SibSp</th>\n",
       "      <th>Parch</th>\n",
       "      <th>Fare</th>\n",
       "    </tr>\n",
       "  </thead>\n",
       "  <tbody>\n",
       "    <tr>\n",
       "      <th>count</th>\n",
       "      <td>891.000000</td>\n",
       "      <td>891.000000</td>\n",
       "      <td>891.000000</td>\n",
       "      <td>714.000000</td>\n",
       "      <td>891.000000</td>\n",
       "      <td>891.000000</td>\n",
       "      <td>891.000000</td>\n",
       "    </tr>\n",
       "    <tr>\n",
       "      <th>mean</th>\n",
       "      <td>446.000000</td>\n",
       "      <td>0.383838</td>\n",
       "      <td>2.308642</td>\n",
       "      <td>29.699118</td>\n",
       "      <td>0.523008</td>\n",
       "      <td>0.381594</td>\n",
       "      <td>32.204208</td>\n",
       "    </tr>\n",
       "    <tr>\n",
       "      <th>std</th>\n",
       "      <td>257.353842</td>\n",
       "      <td>0.486592</td>\n",
       "      <td>0.836071</td>\n",
       "      <td>14.526497</td>\n",
       "      <td>1.102743</td>\n",
       "      <td>0.806057</td>\n",
       "      <td>49.693429</td>\n",
       "    </tr>\n",
       "    <tr>\n",
       "      <th>min</th>\n",
       "      <td>1.000000</td>\n",
       "      <td>0.000000</td>\n",
       "      <td>1.000000</td>\n",
       "      <td>0.420000</td>\n",
       "      <td>0.000000</td>\n",
       "      <td>0.000000</td>\n",
       "      <td>0.000000</td>\n",
       "    </tr>\n",
       "    <tr>\n",
       "      <th>25%</th>\n",
       "      <td>223.500000</td>\n",
       "      <td>0.000000</td>\n",
       "      <td>2.000000</td>\n",
       "      <td>20.125000</td>\n",
       "      <td>0.000000</td>\n",
       "      <td>0.000000</td>\n",
       "      <td>7.910400</td>\n",
       "    </tr>\n",
       "    <tr>\n",
       "      <th>50%</th>\n",
       "      <td>446.000000</td>\n",
       "      <td>0.000000</td>\n",
       "      <td>3.000000</td>\n",
       "      <td>28.000000</td>\n",
       "      <td>0.000000</td>\n",
       "      <td>0.000000</td>\n",
       "      <td>14.454200</td>\n",
       "    </tr>\n",
       "    <tr>\n",
       "      <th>75%</th>\n",
       "      <td>668.500000</td>\n",
       "      <td>1.000000</td>\n",
       "      <td>3.000000</td>\n",
       "      <td>38.000000</td>\n",
       "      <td>1.000000</td>\n",
       "      <td>0.000000</td>\n",
       "      <td>31.000000</td>\n",
       "    </tr>\n",
       "    <tr>\n",
       "      <th>max</th>\n",
       "      <td>891.000000</td>\n",
       "      <td>1.000000</td>\n",
       "      <td>3.000000</td>\n",
       "      <td>80.000000</td>\n",
       "      <td>8.000000</td>\n",
       "      <td>6.000000</td>\n",
       "      <td>512.329200</td>\n",
       "    </tr>\n",
       "  </tbody>\n",
       "</table>\n",
       "</div>"
      ],
      "text/plain": [
       "       PassengerId    Survived      Pclass         Age       SibSp  \\\n",
       "count   891.000000  891.000000  891.000000  714.000000  891.000000   \n",
       "mean    446.000000    0.383838    2.308642   29.699118    0.523008   \n",
       "std     257.353842    0.486592    0.836071   14.526497    1.102743   \n",
       "min       1.000000    0.000000    1.000000    0.420000    0.000000   \n",
       "25%     223.500000    0.000000    2.000000   20.125000    0.000000   \n",
       "50%     446.000000    0.000000    3.000000   28.000000    0.000000   \n",
       "75%     668.500000    1.000000    3.000000   38.000000    1.000000   \n",
       "max     891.000000    1.000000    3.000000   80.000000    8.000000   \n",
       "\n",
       "            Parch        Fare  \n",
       "count  891.000000  891.000000  \n",
       "mean     0.381594   32.204208  \n",
       "std      0.806057   49.693429  \n",
       "min      0.000000    0.000000  \n",
       "25%      0.000000    7.910400  \n",
       "50%      0.000000   14.454200  \n",
       "75%      0.000000   31.000000  \n",
       "max      6.000000  512.329200  "
      ]
     },
     "execution_count": 4,
     "metadata": {},
     "output_type": "execute_result"
    }
   ],
   "source": [
    "df.describe() ## Statistical Summary of the DataFrame"
   ]
  },
  {
   "cell_type": "code",
   "execution_count": 5,
   "id": "dc5654b6",
   "metadata": {
    "execution": {
     "iopub.execute_input": "2024-03-15T08:42:42.184116Z",
     "iopub.status.busy": "2024-03-15T08:42:42.183674Z",
     "iopub.status.idle": "2024-03-15T08:42:42.215027Z",
     "shell.execute_reply": "2024-03-15T08:42:42.213631Z"
    },
    "papermill": {
     "duration": 0.048364,
     "end_time": "2024-03-15T08:42:42.217582",
     "exception": false,
     "start_time": "2024-03-15T08:42:42.169218",
     "status": "completed"
    },
    "tags": []
   },
   "outputs": [
    {
     "name": "stdout",
     "output_type": "stream",
     "text": [
      "<class 'pandas.core.frame.DataFrame'>\n",
      "RangeIndex: 891 entries, 0 to 890\n",
      "Data columns (total 12 columns):\n",
      " #   Column       Non-Null Count  Dtype  \n",
      "---  ------       --------------  -----  \n",
      " 0   PassengerId  891 non-null    int64  \n",
      " 1   Survived     891 non-null    int64  \n",
      " 2   Pclass       891 non-null    int64  \n",
      " 3   Name         891 non-null    object \n",
      " 4   Sex          891 non-null    object \n",
      " 5   Age          714 non-null    float64\n",
      " 6   SibSp        891 non-null    int64  \n",
      " 7   Parch        891 non-null    int64  \n",
      " 8   Ticket       891 non-null    object \n",
      " 9   Fare         891 non-null    float64\n",
      " 10  Cabin        204 non-null    object \n",
      " 11  Embarked     889 non-null    object \n",
      "dtypes: float64(2), int64(5), object(5)\n",
      "memory usage: 83.7+ KB\n"
     ]
    }
   ],
   "source": [
    "df.info() ## Summary of the dataframe content"
   ]
  },
  {
   "cell_type": "markdown",
   "id": "c77b57f7",
   "metadata": {
    "papermill": {
     "duration": 0.01261,
     "end_time": "2024-03-15T08:42:42.243059",
     "exception": false,
     "start_time": "2024-03-15T08:42:42.230449",
     "status": "completed"
    },
    "tags": []
   },
   "source": [
    "#### From the data above there are 200+ null values in Age, 600+ in Cabin and 2 in Embarked"
   ]
  },
  {
   "cell_type": "code",
   "execution_count": 6,
   "id": "be340800",
   "metadata": {
    "execution": {
     "iopub.execute_input": "2024-03-15T08:42:42.270381Z",
     "iopub.status.busy": "2024-03-15T08:42:42.269962Z",
     "iopub.status.idle": "2024-03-15T08:42:42.925061Z",
     "shell.execute_reply": "2024-03-15T08:42:42.923840Z"
    },
    "papermill": {
     "duration": 0.671962,
     "end_time": "2024-03-15T08:42:42.927973",
     "exception": false,
     "start_time": "2024-03-15T08:42:42.256011",
     "status": "completed"
    },
    "tags": []
   },
   "outputs": [
    {
     "data": {
      "text/plain": [
       "Text(0.5, 1.0, 'Missing Values Matrix')"
      ]
     },
     "execution_count": 6,
     "metadata": {},
     "output_type": "execute_result"
    },
    {
     "data": {
      "image/png": "[encoded data removed]",
      "text/plain": [
       "<Figure size 900x600 with 1 Axes>"
      ]
     },
     "metadata": {},
     "output_type": "display_data"
    }
   ],
   "source": [
    "## Creating a chart for columns with missing values\n",
    "\n",
    "import missingno as msno ## missing plot\n",
    "\n",
    "msno.matrix(df, figsize=(9,6), sparkline = False, fontsize = 8, labels =True, color = (0, 0.400,0.600))\n",
    "plt.title('Missing Values Matrix')\n",
    "\n"
   ]
  },
  {
   "cell_type": "markdown",
   "id": "3e17c721",
   "metadata": {
    "papermill": {
     "duration": 0.013081,
     "end_time": "2024-03-15T08:42:42.954993",
     "exception": false,
     "start_time": "2024-03-15T08:42:42.941912",
     "status": "completed"
    },
    "tags": []
   },
   "source": [
    "#### Let's do an EDA to Identify what values we should fill in the null values in Age"
   ]
  },
  {
   "cell_type": "code",
   "execution_count": 7,
   "id": "53d0621e",
   "metadata": {
    "execution": {
     "iopub.execute_input": "2024-03-15T08:42:42.983027Z",
     "iopub.status.busy": "2024-03-15T08:42:42.982631Z",
     "iopub.status.idle": "2024-03-15T08:42:43.396605Z",
     "shell.execute_reply": "2024-03-15T08:42:43.395225Z"
    },
    "papermill": {
     "duration": 0.431383,
     "end_time": "2024-03-15T08:42:43.399629",
     "exception": false,
     "start_time": "2024-03-15T08:42:42.968246",
     "status": "completed"
    },
    "tags": []
   },
   "outputs": [
    {
     "data": {
      "text/plain": [
       "Text(0.5, 1.0, 'Pclass by Population')"
      ]
     },
     "execution_count": 7,
     "metadata": {},
     "output_type": "execute_result"
    },
    {
     "data": {
      "image/png": "[encoded data removed]",
      "text/plain": [
       "<Figure size 500x500 with 1 Axes>"
      ]
     },
     "metadata": {},
     "output_type": "display_data"
    }
   ],
   "source": [
    "## Exploring the population of each Pclass\n",
    "sns.catplot(df,x = 'Pclass', \n",
    "            kind = 'count',\n",
    "           color ='#6082B6')\n",
    "plt.ylabel('Population')\n",
    "plt.title('Pclass by Population')"
   ]
  },
  {
   "cell_type": "markdown",
   "id": "204e7b00",
   "metadata": {
    "papermill": {
     "duration": 0.013105,
     "end_time": "2024-03-15T08:42:43.426392",
     "exception": false,
     "start_time": "2024-03-15T08:42:43.413287",
     "status": "completed"
    },
    "tags": []
   },
   "source": [
    "#### Pclass 3 has more population than Pclass 1 and 2 Combined"
   ]
  },
  {
   "cell_type": "code",
   "execution_count": 8,
   "id": "cbe89474",
   "metadata": {
    "execution": {
     "iopub.execute_input": "2024-03-15T08:42:43.456062Z",
     "iopub.status.busy": "2024-03-15T08:42:43.455026Z",
     "iopub.status.idle": "2024-03-15T08:42:43.896738Z",
     "shell.execute_reply": "2024-03-15T08:42:43.895516Z"
    },
    "papermill": {
     "duration": 0.459578,
     "end_time": "2024-03-15T08:42:43.899482",
     "exception": false,
     "start_time": "2024-03-15T08:42:43.439904",
     "status": "completed"
    },
    "tags": []
   },
   "outputs": [
    {
     "data": {
      "text/plain": [
       "Text(0.5, 1.0, 'Age Histogram')"
      ]
     },
     "execution_count": 8,
     "metadata": {},
     "output_type": "execute_result"
    },
    {
     "data": {
      "image/png": "[encoded data removed]",
      "text/plain": [
       "<Figure size 640x480 with 1 Axes>"
      ]
     },
     "metadata": {},
     "output_type": "display_data"
    }
   ],
   "source": [
    "## Graph for Age\n",
    "df['Age'].hist(bins = 50)\n",
    "plt.xlabel('Age')\n",
    "plt.ylabel('Population')\n",
    "plt.title('Age Histogram')"
   ]
  },
  {
   "cell_type": "markdown",
   "id": "6c103dda",
   "metadata": {
    "papermill": {
     "duration": 0.013699,
     "end_time": "2024-03-15T08:42:43.927344",
     "exception": false,
     "start_time": "2024-03-15T08:42:43.913645",
     "status": "completed"
    },
    "tags": []
   },
   "source": [
    "#### A significant percentage of the Ship's population came from Age group 20-30 "
   ]
  },
  {
   "cell_type": "code",
   "execution_count": 9,
   "id": "28b89a97",
   "metadata": {
    "execution": {
     "iopub.execute_input": "2024-03-15T08:42:43.957172Z",
     "iopub.status.busy": "2024-03-15T08:42:43.956510Z",
     "iopub.status.idle": "2024-03-15T08:42:44.354872Z",
     "shell.execute_reply": "2024-03-15T08:42:44.353596Z"
    },
    "papermill": {
     "duration": 0.416283,
     "end_time": "2024-03-15T08:42:44.357599",
     "exception": false,
     "start_time": "2024-03-15T08:42:43.941316",
     "status": "completed"
    },
    "tags": []
   },
   "outputs": [
    {
     "data": {
      "text/plain": [
       "Text(5.069444444444445, 0.5, 'Population')"
      ]
     },
     "execution_count": 9,
     "metadata": {},
     "output_type": "execute_result"
    },
    {
     "data": {
      "image/png": "[encoded data removed]",
      "text/plain": [
       "<Figure size 500x500 with 1 Axes>"
      ]
     },
     "metadata": {},
     "output_type": "display_data"
    }
   ],
   "source": [
    "sns.catplot(df,x='Sex',\n",
    "           kind = 'count',\n",
    "           palette ={'male':'#6082B6', 'female':'lightblue'})\n",
    "plt.title('Population by Gender')\n",
    "plt.ylabel('Population')"
   ]
  },
  {
   "cell_type": "markdown",
   "id": "4d85a332",
   "metadata": {
    "papermill": {
     "duration": 0.014309,
     "end_time": "2024-03-15T08:42:44.386535",
     "exception": false,
     "start_time": "2024-03-15T08:42:44.372226",
     "status": "completed"
    },
    "tags": []
   },
   "source": [
    "#### Male population is twice as many as Females"
   ]
  },
  {
   "cell_type": "markdown",
   "id": "076fb3c5",
   "metadata": {
    "papermill": {
     "duration": 0.014159,
     "end_time": "2024-03-15T08:42:44.415470",
     "exception": false,
     "start_time": "2024-03-15T08:42:44.401311",
     "status": "completed"
    },
    "tags": []
   },
   "source": [
    "#### After a brief exploration we can use the mean Age by Pclass and Sex. "
   ]
  },
  {
   "cell_type": "code",
   "execution_count": 10,
   "id": "2bd2ed18",
   "metadata": {
    "execution": {
     "iopub.execute_input": "2024-03-15T08:42:44.447100Z",
     "iopub.status.busy": "2024-03-15T08:42:44.445868Z",
     "iopub.status.idle": "2024-03-15T08:42:44.460206Z",
     "shell.execute_reply": "2024-03-15T08:42:44.459017Z"
    },
    "papermill": {
     "duration": 0.032832,
     "end_time": "2024-03-15T08:42:44.462809",
     "exception": false,
     "start_time": "2024-03-15T08:42:44.429977",
     "status": "completed"
    },
    "tags": []
   },
   "outputs": [
    {
     "data": {
      "text/plain": [
       "Pclass  Sex   \n",
       "1       female    35.0\n",
       "        male      41.0\n",
       "2       female    29.0\n",
       "        male      31.0\n",
       "3       female    22.0\n",
       "        male      27.0\n",
       "Name: Age, dtype: float64"
      ]
     },
     "execution_count": 10,
     "metadata": {},
     "output_type": "execute_result"
    }
   ],
   "source": [
    "## Get average age for each Pclass and Gender\n",
    "df.groupby(['Pclass','Sex'])['Age'].mean().round()"
   ]
  },
  {
   "cell_type": "markdown",
   "id": "07736b21",
   "metadata": {
    "papermill": {
     "duration": 0.014457,
     "end_time": "2024-03-15T08:42:44.492751",
     "exception": false,
     "start_time": "2024-03-15T08:42:44.478294",
     "status": "completed"
    },
    "tags": []
   },
   "source": [
    "#### We can use this average to fill in the null values for Age"
   ]
  },
  {
   "cell_type": "code",
   "execution_count": 11,
   "id": "9799b145",
   "metadata": {
    "execution": {
     "iopub.execute_input": "2024-03-15T08:42:44.524862Z",
     "iopub.status.busy": "2024-03-15T08:42:44.524482Z",
     "iopub.status.idle": "2024-03-15T08:42:44.549571Z",
     "shell.execute_reply": "2024-03-15T08:42:44.548625Z"
    },
    "papermill": {
     "duration": 0.043613,
     "end_time": "2024-03-15T08:42:44.551802",
     "exception": false,
     "start_time": "2024-03-15T08:42:44.508189",
     "status": "completed"
    },
    "tags": []
   },
   "outputs": [],
   "source": [
    "## Create a function that specifies the age of a null value that varies on Pclass and Gender\n",
    "\n",
    "# Define a function to replace null values in 'Age'\n",
    "def n_age(passenger):\n",
    "    Age, Pclass, Sex = passenger\n",
    "    \n",
    "    # Check if Age is null\n",
    "    if pd.isnull(Age):\n",
    "        if Pclass == 1:\n",
    "            if Sex == 'male':\n",
    "                return 41\n",
    "            elif Sex == 'female':\n",
    "                return 35\n",
    "        elif Pclass == 2:\n",
    "            if Sex == 'male':\n",
    "                return 31\n",
    "            elif Sex == 'female':\n",
    "                return 29\n",
    "        elif Pclass == 3:\n",
    "            if Sex == 'male':\n",
    "                return 27\n",
    "            elif Sex == 'female':\n",
    "                return 22\n",
    "    else:\n",
    "        return Age\n",
    "\n",
    "# Apply the function to replace null values in 'Age' column\n",
    "df['Age'] = df[['Age', 'Pclass', 'Sex']].apply(n_age, axis=1)\n"
   ]
  },
  {
   "cell_type": "markdown",
   "id": "de6cb26d",
   "metadata": {
    "papermill": {
     "duration": 0.017398,
     "end_time": "2024-03-15T08:42:44.585425",
     "exception": false,
     "start_time": "2024-03-15T08:42:44.568027",
     "status": "completed"
    },
    "tags": []
   },
   "source": [
    "#### Let's check if the null values were replaced by age from our function"
   ]
  },
  {
   "cell_type": "code",
   "execution_count": 12,
   "id": "9ec93673",
   "metadata": {
    "execution": {
     "iopub.execute_input": "2024-03-15T08:42:44.616998Z",
     "iopub.status.busy": "2024-03-15T08:42:44.616332Z",
     "iopub.status.idle": "2024-03-15T08:42:44.628740Z",
     "shell.execute_reply": "2024-03-15T08:42:44.626993Z"
    },
    "papermill": {
     "duration": 0.031016,
     "end_time": "2024-03-15T08:42:44.631287",
     "exception": false,
     "start_time": "2024-03-15T08:42:44.600271",
     "status": "completed"
    },
    "tags": []
   },
   "outputs": [
    {
     "name": "stdout",
     "output_type": "stream",
     "text": [
      "<class 'pandas.core.frame.DataFrame'>\n",
      "RangeIndex: 891 entries, 0 to 890\n",
      "Data columns (total 12 columns):\n",
      " #   Column       Non-Null Count  Dtype  \n",
      "---  ------       --------------  -----  \n",
      " 0   PassengerId  891 non-null    int64  \n",
      " 1   Survived     891 non-null    int64  \n",
      " 2   Pclass       891 non-null    int64  \n",
      " 3   Name         891 non-null    object \n",
      " 4   Sex          891 non-null    object \n",
      " 5   Age          891 non-null    float64\n",
      " 6   SibSp        891 non-null    int64  \n",
      " 7   Parch        891 non-null    int64  \n",
      " 8   Ticket       891 non-null    object \n",
      " 9   Fare         891 non-null    float64\n",
      " 10  Cabin        204 non-null    object \n",
      " 11  Embarked     889 non-null    object \n",
      "dtypes: float64(2), int64(5), object(5)\n",
      "memory usage: 83.7+ KB\n"
     ]
    }
   ],
   "source": [
    "## Check for null values on Age Column\n",
    "\n",
    "df.info() "
   ]
  },
  {
   "cell_type": "code",
   "execution_count": 13,
   "id": "5d54267c",
   "metadata": {
    "execution": {
     "iopub.execute_input": "2024-03-15T08:42:44.663085Z",
     "iopub.status.busy": "2024-03-15T08:42:44.662383Z",
     "iopub.status.idle": "2024-03-15T08:42:45.175942Z",
     "shell.execute_reply": "2024-03-15T08:42:45.174567Z"
    },
    "papermill": {
     "duration": 0.532412,
     "end_time": "2024-03-15T08:42:45.178651",
     "exception": false,
     "start_time": "2024-03-15T08:42:44.646239",
     "status": "completed"
    },
    "tags": []
   },
   "outputs": [
    {
     "data": {
      "text/plain": [
       "Text(0.5, 1.0, 'Missing Values Matrix')"
      ]
     },
     "execution_count": 13,
     "metadata": {},
     "output_type": "execute_result"
    },
    {
     "data": {
      "image/png": "[encoded data removed]",
      "text/plain": [
       "<Figure size 900x600 with 1 Axes>"
      ]
     },
     "metadata": {},
     "output_type": "display_data"
    }
   ],
   "source": [
    "msno.matrix(df, figsize=(9,6), sparkline = False, fontsize = 8, labels =True, color = (0, 0.400,0.600))\n",
    "plt.title('Missing Values Matrix')\n"
   ]
  },
  {
   "cell_type": "markdown",
   "id": "b9b9b6ec",
   "metadata": {
    "papermill": {
     "duration": 0.015072,
     "end_time": "2024-03-15T08:42:45.209371",
     "exception": false,
     "start_time": "2024-03-15T08:42:45.194299",
     "status": "completed"
    },
    "tags": []
   },
   "source": [
    "#### Looks like we fill the null values with the age from the function, we can validate it with the raw data of train and the output of the dataframe"
   ]
  },
  {
   "cell_type": "code",
   "execution_count": 14,
   "id": "dfb6206c",
   "metadata": {
    "execution": {
     "iopub.execute_input": "2024-03-15T08:42:45.242332Z",
     "iopub.status.busy": "2024-03-15T08:42:45.241939Z",
     "iopub.status.idle": "2024-03-15T08:42:45.678501Z",
     "shell.execute_reply": "2024-03-15T08:42:45.677312Z"
    },
    "papermill": {
     "duration": 0.456321,
     "end_time": "2024-03-15T08:42:45.681281",
     "exception": false,
     "start_time": "2024-03-15T08:42:45.224960",
     "status": "completed"
    },
    "tags": []
   },
   "outputs": [
    {
     "data": {
      "text/plain": [
       "Text(0.5, 1.0, 'Age Histogram')"
      ]
     },
     "execution_count": 14,
     "metadata": {},
     "output_type": "execute_result"
    },
    {
     "data": {
      "image/png": "[encoded data removed]",
      "text/plain": [
       "<Figure size 640x480 with 1 Axes>"
      ]
     },
     "metadata": {},
     "output_type": "display_data"
    }
   ],
   "source": [
    "## Graph for Age after replacing null values\n",
    "df['Age'].hist(bins = 50)\n",
    "plt.xlabel('Age')\n",
    "plt.ylabel('Population')\n",
    "plt.title('Age Histogram')"
   ]
  },
  {
   "cell_type": "markdown",
   "id": "5c18f2f3",
   "metadata": {
    "papermill": {
     "duration": 0.015553,
     "end_time": "2024-03-15T08:42:45.712736",
     "exception": false,
     "start_time": "2024-03-15T08:42:45.697183",
     "status": "completed"
    },
    "tags": []
   },
   "source": [
    "#### After replacing the values the histogram shows we have a lot of 27 year olds on the ship.\n",
    "#### On the average age from the function 27 year old came from Pclass 3 and Male Gender.\n",
    "#### Let's Illustrate"
   ]
  },
  {
   "cell_type": "code",
   "execution_count": 15,
   "id": "5347ac2f",
   "metadata": {
    "execution": {
     "iopub.execute_input": "2024-03-15T08:42:45.747167Z",
     "iopub.status.busy": "2024-03-15T08:42:45.746395Z",
     "iopub.status.idle": "2024-03-15T08:42:46.299210Z",
     "shell.execute_reply": "2024-03-15T08:42:46.297880Z"
    },
    "papermill": {
     "duration": 0.573638,
     "end_time": "2024-03-15T08:42:46.302346",
     "exception": false,
     "start_time": "2024-03-15T08:42:45.728708",
     "status": "completed"
    },
    "tags": []
   },
   "outputs": [
    {
     "data": {
      "text/plain": [
       "Text(42.84794444444445, 0.5, 'Population')"
      ]
     },
     "execution_count": 15,
     "metadata": {},
     "output_type": "execute_result"
    },
    {
     "data": {
      "image/png": "[encoded data removed]",
      "text/plain": [
       "<Figure size 598x500 with 1 Axes>"
      ]
     },
     "metadata": {},
     "output_type": "display_data"
    }
   ],
   "source": [
    "sns.catplot(df, x='Pclass', \n",
    "            kind ='count', \n",
    "            hue ='Sex', \n",
    "            palette ={'male':'#6082B6', 'female':'lightblue'})\n",
    "\n",
    "plt.title('Population of Gender by Pclass')\n",
    "plt.ylabel('Population')"
   ]
  },
  {
   "cell_type": "markdown",
   "id": "da637d97",
   "metadata": {
    "papermill": {
     "duration": 0.016327,
     "end_time": "2024-03-15T08:42:46.335765",
     "exception": false,
     "start_time": "2024-03-15T08:42:46.319438",
     "status": "completed"
    },
    "tags": []
   },
   "source": [
    "#### The above illustration shows that the female population has survived significantly more than the male population of each Pclass"
   ]
  },
  {
   "cell_type": "code",
   "execution_count": 16,
   "id": "32a6bcc2",
   "metadata": {
    "execution": {
     "iopub.execute_input": "2024-03-15T08:42:46.374169Z",
     "iopub.status.busy": "2024-03-15T08:42:46.373317Z",
     "iopub.status.idle": "2024-03-15T08:42:46.378463Z",
     "shell.execute_reply": "2024-03-15T08:42:46.377526Z"
    },
    "papermill": {
     "duration": 0.028272,
     "end_time": "2024-03-15T08:42:46.380818",
     "exception": false,
     "start_time": "2024-03-15T08:42:46.352546",
     "status": "completed"
    },
    "tags": []
   },
   "outputs": [],
   "source": [
    "## Created a function to identify male female and kid\n",
    "def mfc(mfc):\n",
    "    Age, Sex = mfc\n",
    "\n",
    "    if Age <17 :\n",
    "        return 'Kid'\n",
    "\n",
    "    else :\n",
    "        return Sex"
   ]
  },
  {
   "cell_type": "code",
   "execution_count": 17,
   "id": "7f9f0aac",
   "metadata": {
    "execution": {
     "iopub.execute_input": "2024-03-15T08:42:46.417479Z",
     "iopub.status.busy": "2024-03-15T08:42:46.417049Z",
     "iopub.status.idle": "2024-03-15T08:42:46.453366Z",
     "shell.execute_reply": "2024-03-15T08:42:46.452182Z"
    },
    "papermill": {
     "duration": 0.057854,
     "end_time": "2024-03-15T08:42:46.456556",
     "exception": false,
     "start_time": "2024-03-15T08:42:46.398702",
     "status": "completed"
    },
    "tags": []
   },
   "outputs": [
    {
     "data": {
      "text/html": [
       "<div>\n",
       "<style scoped>\n",
       "    .dataframe tbody tr th:only-of-type {\n",
       "        vertical-align: middle;\n",
       "    }\n",
       "\n",
       "    .dataframe tbody tr th {\n",
       "        vertical-align: top;\n",
       "    }\n",
       "\n",
       "    .dataframe thead th {\n",
       "        text-align: right;\n",
       "    }\n",
       "</style>\n",
       "<table border=\"1\" class=\"dataframe\">\n",
       "  <thead>\n",
       "    <tr style=\"text-align: right;\">\n",
       "      <th></th>\n",
       "      <th>PassengerId</th>\n",
       "      <th>Survived</th>\n",
       "      <th>Pclass</th>\n",
       "      <th>Name</th>\n",
       "      <th>Sex</th>\n",
       "      <th>Age</th>\n",
       "      <th>SibSp</th>\n",
       "      <th>Parch</th>\n",
       "      <th>Ticket</th>\n",
       "      <th>Fare</th>\n",
       "      <th>Cabin</th>\n",
       "      <th>Embarked</th>\n",
       "      <th>age_group</th>\n",
       "    </tr>\n",
       "  </thead>\n",
       "  <tbody>\n",
       "    <tr>\n",
       "      <th>0</th>\n",
       "      <td>1</td>\n",
       "      <td>0</td>\n",
       "      <td>3</td>\n",
       "      <td>Braund, Mr. Owen Harris</td>\n",
       "      <td>male</td>\n",
       "      <td>22.0</td>\n",
       "      <td>1</td>\n",
       "      <td>0</td>\n",
       "      <td>A/5 21171</td>\n",
       "      <td>7.2500</td>\n",
       "      <td>NaN</td>\n",
       "      <td>S</td>\n",
       "      <td>male</td>\n",
       "    </tr>\n",
       "    <tr>\n",
       "      <th>1</th>\n",
       "      <td>2</td>\n",
       "      <td>1</td>\n",
       "      <td>1</td>\n",
       "      <td>Cumings, Mrs. John Bradley (Florence Briggs Th...</td>\n",
       "      <td>female</td>\n",
       "      <td>38.0</td>\n",
       "      <td>1</td>\n",
       "      <td>0</td>\n",
       "      <td>PC 17599</td>\n",
       "      <td>71.2833</td>\n",
       "      <td>C85</td>\n",
       "      <td>C</td>\n",
       "      <td>female</td>\n",
       "    </tr>\n",
       "    <tr>\n",
       "      <th>2</th>\n",
       "      <td>3</td>\n",
       "      <td>1</td>\n",
       "      <td>3</td>\n",
       "      <td>Heikkinen, Miss. Laina</td>\n",
       "      <td>female</td>\n",
       "      <td>26.0</td>\n",
       "      <td>0</td>\n",
       "      <td>0</td>\n",
       "      <td>STON/O2. 3101282</td>\n",
       "      <td>7.9250</td>\n",
       "      <td>NaN</td>\n",
       "      <td>S</td>\n",
       "      <td>female</td>\n",
       "    </tr>\n",
       "    <tr>\n",
       "      <th>3</th>\n",
       "      <td>4</td>\n",
       "      <td>1</td>\n",
       "      <td>1</td>\n",
       "      <td>Futrelle, Mrs. Jacques Heath (Lily May Peel)</td>\n",
       "      <td>female</td>\n",
       "      <td>35.0</td>\n",
       "      <td>1</td>\n",
       "      <td>0</td>\n",
       "      <td>113803</td>\n",
       "      <td>53.1000</td>\n",
       "      <td>C123</td>\n",
       "      <td>S</td>\n",
       "      <td>female</td>\n",
       "    </tr>\n",
       "    <tr>\n",
       "      <th>4</th>\n",
       "      <td>5</td>\n",
       "      <td>0</td>\n",
       "      <td>3</td>\n",
       "      <td>Allen, Mr. William Henry</td>\n",
       "      <td>male</td>\n",
       "      <td>35.0</td>\n",
       "      <td>0</td>\n",
       "      <td>0</td>\n",
       "      <td>373450</td>\n",
       "      <td>8.0500</td>\n",
       "      <td>NaN</td>\n",
       "      <td>S</td>\n",
       "      <td>male</td>\n",
       "    </tr>\n",
       "    <tr>\n",
       "      <th>...</th>\n",
       "      <td>...</td>\n",
       "      <td>...</td>\n",
       "      <td>...</td>\n",
       "      <td>...</td>\n",
       "      <td>...</td>\n",
       "      <td>...</td>\n",
       "      <td>...</td>\n",
       "      <td>...</td>\n",
       "      <td>...</td>\n",
       "      <td>...</td>\n",
       "      <td>...</td>\n",
       "      <td>...</td>\n",
       "      <td>...</td>\n",
       "    </tr>\n",
       "    <tr>\n",
       "      <th>886</th>\n",
       "      <td>887</td>\n",
       "      <td>0</td>\n",
       "      <td>2</td>\n",
       "      <td>Montvila, Rev. Juozas</td>\n",
       "      <td>male</td>\n",
       "      <td>27.0</td>\n",
       "      <td>0</td>\n",
       "      <td>0</td>\n",
       "      <td>211536</td>\n",
       "      <td>13.0000</td>\n",
       "      <td>NaN</td>\n",
       "      <td>S</td>\n",
       "      <td>male</td>\n",
       "    </tr>\n",
       "    <tr>\n",
       "      <th>887</th>\n",
       "      <td>888</td>\n",
       "      <td>1</td>\n",
       "      <td>1</td>\n",
       "      <td>Graham, Miss. Margaret Edith</td>\n",
       "      <td>female</td>\n",
       "      <td>19.0</td>\n",
       "      <td>0</td>\n",
       "      <td>0</td>\n",
       "      <td>112053</td>\n",
       "      <td>30.0000</td>\n",
       "      <td>B42</td>\n",
       "      <td>S</td>\n",
       "      <td>female</td>\n",
       "    </tr>\n",
       "    <tr>\n",
       "      <th>888</th>\n",
       "      <td>889</td>\n",
       "      <td>0</td>\n",
       "      <td>3</td>\n",
       "      <td>Johnston, Miss. Catherine Helen \"Carrie\"</td>\n",
       "      <td>female</td>\n",
       "      <td>22.0</td>\n",
       "      <td>1</td>\n",
       "      <td>2</td>\n",
       "      <td>W./C. 6607</td>\n",
       "      <td>23.4500</td>\n",
       "      <td>NaN</td>\n",
       "      <td>S</td>\n",
       "      <td>female</td>\n",
       "    </tr>\n",
       "    <tr>\n",
       "      <th>889</th>\n",
       "      <td>890</td>\n",
       "      <td>1</td>\n",
       "      <td>1</td>\n",
       "      <td>Behr, Mr. Karl Howell</td>\n",
       "      <td>male</td>\n",
       "      <td>26.0</td>\n",
       "      <td>0</td>\n",
       "      <td>0</td>\n",
       "      <td>111369</td>\n",
       "      <td>30.0000</td>\n",
       "      <td>C148</td>\n",
       "      <td>C</td>\n",
       "      <td>male</td>\n",
       "    </tr>\n",
       "    <tr>\n",
       "      <th>890</th>\n",
       "      <td>891</td>\n",
       "      <td>0</td>\n",
       "      <td>3</td>\n",
       "      <td>Dooley, Mr. Patrick</td>\n",
       "      <td>male</td>\n",
       "      <td>32.0</td>\n",
       "      <td>0</td>\n",
       "      <td>0</td>\n",
       "      <td>370376</td>\n",
       "      <td>7.7500</td>\n",
       "      <td>NaN</td>\n",
       "      <td>Q</td>\n",
       "      <td>male</td>\n",
       "    </tr>\n",
       "  </tbody>\n",
       "</table>\n",
       "<p>891 rows × 13 columns</p>\n",
       "</div>"
      ],
      "text/plain": [
       "     PassengerId  Survived  Pclass  \\\n",
       "0              1         0       3   \n",
       "1              2         1       1   \n",
       "2              3         1       3   \n",
       "3              4         1       1   \n",
       "4              5         0       3   \n",
       "..           ...       ...     ...   \n",
       "886          887         0       2   \n",
       "887          888         1       1   \n",
       "888          889         0       3   \n",
       "889          890         1       1   \n",
       "890          891         0       3   \n",
       "\n",
       "                                                  Name     Sex   Age  SibSp  \\\n",
       "0                              Braund, Mr. Owen Harris    male  22.0      1   \n",
       "1    Cumings, Mrs. John Bradley (Florence Briggs Th...  female  38.0      1   \n",
       "2                               Heikkinen, Miss. Laina  female  26.0      0   \n",
       "3         Futrelle, Mrs. Jacques Heath (Lily May Peel)  female  35.0      1   \n",
       "4                             Allen, Mr. William Henry    male  35.0      0   \n",
       "..                                                 ...     ...   ...    ...   \n",
       "886                              Montvila, Rev. Juozas    male  27.0      0   \n",
       "887                       Graham, Miss. Margaret Edith  female  19.0      0   \n",
       "888           Johnston, Miss. Catherine Helen \"Carrie\"  female  22.0      1   \n",
       "889                              Behr, Mr. Karl Howell    male  26.0      0   \n",
       "890                                Dooley, Mr. Patrick    male  32.0      0   \n",
       "\n",
       "     Parch            Ticket     Fare Cabin Embarked age_group  \n",
       "0        0         A/5 21171   7.2500   NaN        S      male  \n",
       "1        0          PC 17599  71.2833   C85        C    female  \n",
       "2        0  STON/O2. 3101282   7.9250   NaN        S    female  \n",
       "3        0            113803  53.1000  C123        S    female  \n",
       "4        0            373450   8.0500   NaN        S      male  \n",
       "..     ...               ...      ...   ...      ...       ...  \n",
       "886      0            211536  13.0000   NaN        S      male  \n",
       "887      0            112053  30.0000   B42        S    female  \n",
       "888      2        W./C. 6607  23.4500   NaN        S    female  \n",
       "889      0            111369  30.0000  C148        C      male  \n",
       "890      0            370376   7.7500   NaN        Q      male  \n",
       "\n",
       "[891 rows x 13 columns]"
      ]
     },
     "execution_count": 17,
     "metadata": {},
     "output_type": "execute_result"
    }
   ],
   "source": [
    "## Appky function to the data frame\n",
    "df['age_group']=df[['Age','Sex']].apply(mfc,axis=1) \n",
    "df"
   ]
  },
  {
   "cell_type": "code",
   "execution_count": 18,
   "id": "0920eb08",
   "metadata": {
    "execution": {
     "iopub.execute_input": "2024-03-15T08:42:46.493891Z",
     "iopub.status.busy": "2024-03-15T08:42:46.493515Z",
     "iopub.status.idle": "2024-03-15T08:42:46.882644Z",
     "shell.execute_reply": "2024-03-15T08:42:46.881538Z"
    },
    "papermill": {
     "duration": 0.410881,
     "end_time": "2024-03-15T08:42:46.885115",
     "exception": false,
     "start_time": "2024-03-15T08:42:46.474234",
     "status": "completed"
    },
    "tags": []
   },
   "outputs": [
    {
     "data": {
      "text/plain": [
       "Text(0.5, 1.0, 'Male, Female, and Kid Frequency')"
      ]
     },
     "execution_count": 18,
     "metadata": {},
     "output_type": "execute_result"
    },
    {
     "data": {
      "image/png": "[encoded data removed]",
      "text/plain": [
       "<Figure size 500x500 with 1 Axes>"
      ]
     },
     "metadata": {},
     "output_type": "display_data"
    }
   ],
   "source": [
    "sns.catplot(df, x= 'age_group',\n",
    "            kind ='count',\n",
    "           palette ={'male':'#6082B6', 'female':'lightblue', 'Kid': 'lightgreen'})\n",
    "plt.ylabel('Count')\n",
    "plt.title('Male, Female, and Kid Frequency')"
   ]
  },
  {
   "cell_type": "markdown",
   "id": "9946719d",
   "metadata": {
    "papermill": {
     "duration": 0.01761,
     "end_time": "2024-03-15T08:42:46.920600",
     "exception": false,
     "start_time": "2024-03-15T08:42:46.902990",
     "status": "completed"
    },
    "tags": []
   },
   "source": [
    "#### Survived Analysis\n",
    "##### Exploring the survivability of Plcass, Sex, Age, and age_group\n"
   ]
  },
  {
   "cell_type": "code",
   "execution_count": 19,
   "id": "3e91854d",
   "metadata": {
    "execution": {
     "iopub.execute_input": "2024-03-15T08:42:46.958502Z",
     "iopub.status.busy": "2024-03-15T08:42:46.958091Z",
     "iopub.status.idle": "2024-03-15T08:42:47.184379Z",
     "shell.execute_reply": "2024-03-15T08:42:47.183183Z"
    },
    "papermill": {
     "duration": 0.248523,
     "end_time": "2024-03-15T08:42:47.186907",
     "exception": false,
     "start_time": "2024-03-15T08:42:46.938384",
     "status": "completed"
    },
    "tags": []
   },
   "outputs": [
    {
     "data": {
      "image/png": "[encoded data removed]",
      "text/plain": [
       "<Figure size 640x480 with 1 Axes>"
      ]
     },
     "metadata": {},
     "output_type": "display_data"
    }
   ],
   "source": [
    "## Survived and Pclass\n",
    "\n",
    "aa=sns.barplot(df, x='Pclass', y= df['Survived']*100,\n",
    "           palette ={1:'#818589', 2:'#808080', 3: '#D3D3D3'},\n",
    "           errorbar =None\n",
    "           )\n",
    "plt.ylabel('Survived Percentage')\n",
    "plt.title('Survived Percentage by Pclass')\n",
    "plt.ylim(0,100)\n",
    "plt.yticks([0, 0])\n",
    "\n",
    "## Adding data labels on columns\n",
    "for i in aa.containers:\n",
    "    aa.bar_label(i,label_type='edge', fmt='%.1f')"
   ]
  },
  {
   "cell_type": "markdown",
   "id": "4369e5cf",
   "metadata": {
    "papermill": {
     "duration": 0.018005,
     "end_time": "2024-03-15T08:42:47.223516",
     "exception": false,
     "start_time": "2024-03-15T08:42:47.205511",
     "status": "completed"
    },
    "tags": []
   },
   "source": [
    "#### 63% of pclass 1 survived while Pclass 2 has 47% and Pclass 3 about 24%\n",
    "#### Pclass 3 age average for male is 27 and 22 for females, let's drill down more with other variables."
   ]
  },
  {
   "cell_type": "code",
   "execution_count": 20,
   "id": "576458c8",
   "metadata": {
    "execution": {
     "iopub.execute_input": "2024-03-15T08:42:47.264025Z",
     "iopub.status.busy": "2024-03-15T08:42:47.263301Z",
     "iopub.status.idle": "2024-03-15T08:42:47.531695Z",
     "shell.execute_reply": "2024-03-15T08:42:47.530328Z"
    },
    "papermill": {
     "duration": 0.291434,
     "end_time": "2024-03-15T08:42:47.534618",
     "exception": false,
     "start_time": "2024-03-15T08:42:47.243184",
     "status": "completed"
    },
    "tags": []
   },
   "outputs": [
    {
     "data": {
      "image/png": "[encoded data removed]",
      "text/plain": [
       "<Figure size 640x480 with 1 Axes>"
      ]
     },
     "metadata": {},
     "output_type": "display_data"
    }
   ],
   "source": [
    "## Survived Percentage by Pclass and Gender\n",
    "\n",
    "ax=sns.barplot(df, x='Pclass', y= df['Survived']*100,\n",
    "           hue ='Sex',\n",
    "           palette ={'male':'#6082B6', 'female':'lightblue'},\n",
    "           errorbar =None\n",
    "           )\n",
    "plt.ylabel('Survived Percentage')\n",
    "plt.ylim(0,105)\n",
    "plt.yticks([0, 0])\n",
    "plt.title('Survived Percentage by Pclass and Gender')\n",
    "\n",
    "## Adding data labels on columns\n",
    "for i in ax.containers:\n",
    "    ax.bar_label(i,label_type='edge', fmt='%.1f')"
   ]
  },
  {
   "cell_type": "markdown",
   "id": "27eab90c",
   "metadata": {
    "papermill": {
     "duration": 0.018918,
     "end_time": "2024-03-15T08:42:47.572507",
     "exception": false,
     "start_time": "2024-03-15T08:42:47.553589",
     "status": "completed"
    },
    "tags": []
   },
   "source": [
    "#### The above illustration shows that the female population has survived significantly more than the male population of each Pclass"
   ]
  },
  {
   "cell_type": "code",
   "execution_count": 21,
   "id": "9bbd7aba",
   "metadata": {
    "execution": {
     "iopub.execute_input": "2024-03-15T08:42:47.672220Z",
     "iopub.status.busy": "2024-03-15T08:42:47.671827Z",
     "iopub.status.idle": "2024-03-15T08:42:48.285490Z",
     "shell.execute_reply": "2024-03-15T08:42:48.283915Z"
    },
    "papermill": {
     "duration": 0.696529,
     "end_time": "2024-03-15T08:42:48.288331",
     "exception": false,
     "start_time": "2024-03-15T08:42:47.591802",
     "status": "completed"
    },
    "tags": []
   },
   "outputs": [
    {
     "data": {
      "text/plain": [
       "([<matplotlib.axis.YTick at 0x7b7a12f93d90>,\n",
       "  <matplotlib.axis.YTick at 0x7b7a12f93730>,\n",
       "  <matplotlib.axis.YTick at 0x7b7a131a88b0>],\n",
       " [Text(0, 0, '0'), Text(0, 50, '50'), Text(0, 100, '100')])"
      ]
     },
     "execution_count": 21,
     "metadata": {},
     "output_type": "execute_result"
    },
    {
     "data": {
      "image/png": "[encoded data removed]",
      "text/plain": [
       "<Figure size 1000x600 with 1 Axes>"
      ]
     },
     "metadata": {},
     "output_type": "display_data"
    }
   ],
   "source": [
    "plt.figure(figsize=(10, 6))\n",
    "sns.barplot(df, x = 'Age', y =df['Survived']*100,errorbar=None)\n",
    "\n",
    "plt.xlim(0,80)\n",
    "plt.xticks([0,5,10,15,20,25,30,35,40,45,50,55,60,65,70,75,80])\n",
    "\n",
    "plt.ylim(0,105)\n",
    "plt.yticks([0,50,100])"
   ]
  },
  {
   "cell_type": "markdown",
   "id": "f9ce3117",
   "metadata": {
    "papermill": {
     "duration": 0.019995,
     "end_time": "2024-03-15T08:42:48.328295",
     "exception": false,
     "start_time": "2024-03-15T08:42:48.308300",
     "status": "completed"
    },
    "tags": []
   },
   "source": [
    "#### Passengers between ages 0-15 survived more than the rest of the age group"
   ]
  },
  {
   "cell_type": "code",
   "execution_count": null,
   "id": "b18b7054",
   "metadata": {
    "papermill": {
     "duration": 0.019994,
     "end_time": "2024-03-15T08:42:48.368448",
     "exception": false,
     "start_time": "2024-03-15T08:42:48.348454",
     "status": "completed"
    },
    "tags": []
   },
   "outputs": [],
   "source": []
  },
  {
   "cell_type": "markdown",
   "id": "93150473",
   "metadata": {
    "papermill": {
     "duration": 0.018964,
     "end_time": "2024-03-15T08:42:48.407094",
     "exception": false,
     "start_time": "2024-03-15T08:42:48.388130",
     "status": "completed"
    },
    "tags": []
   },
   "source": []
  },
  {
   "cell_type": "code",
   "execution_count": 22,
   "id": "43991270",
   "metadata": {
    "execution": {
     "iopub.execute_input": "2024-03-15T08:42:48.448184Z",
     "iopub.status.busy": "2024-03-15T08:42:48.447502Z",
     "iopub.status.idle": "2024-03-15T08:42:48.736437Z",
     "shell.execute_reply": "2024-03-15T08:42:48.735252Z"
    },
    "papermill": {
     "duration": 0.31274,
     "end_time": "2024-03-15T08:42:48.739180",
     "exception": false,
     "start_time": "2024-03-15T08:42:48.426440",
     "status": "completed"
    },
    "tags": []
   },
   "outputs": [
    {
     "data": {
      "image/png": "[encoded data removed]",
      "text/plain": [
       "<Figure size 640x480 with 1 Axes>"
      ]
     },
     "metadata": {},
     "output_type": "display_data"
    }
   ],
   "source": [
    "## Survived and Pclass\n",
    "\n",
    "ax=sns.barplot(df, x='Pclass', y= df['Survived']*100,\n",
    "           hue ='age_group',\n",
    "           palette ={'male':'#6082B6', 'female':'lightblue','Kid':'lightgreen'},\n",
    "           errorbar =None\n",
    "           )\n",
    "plt.ylabel('Survived Percentage')\n",
    "plt.ylim(0,105)\n",
    "plt.yticks([0, 0])\n",
    "plt.title('Survived Percentage by Pclass and Age Group')\n",
    "\n",
    "## Adding data labels on columns\n",
    "for i in ax.containers:\n",
    "    ax.bar_label(i,label_type='edge', fmt='%.1f')"
   ]
  },
  {
   "cell_type": "markdown",
   "id": "3ad6a748",
   "metadata": {
    "papermill": {
     "duration": 0.019642,
     "end_time": "2024-03-15T08:42:48.779202",
     "exception": false,
     "start_time": "2024-03-15T08:42:48.759560",
     "status": "completed"
    },
    "tags": []
   },
   "source": [
    "#### Summarizing the train titanic dataset, the story of the survivability from the disaster.\n",
    "#### Male passengers between ages 15 -50, have a low survival rate. \n",
    "#### These could have stemed from the from the social protocol of taking the women,elderly and children to safety.\n",
    "#### The age group of male 15-50 is composed of male on their prime physique that are able to help those in need of rescue.\n",
    "#### Younger Women Specially in Pclass 3 seemed assisted on rescuing children as Pclass 3 has more children population that the 2 other Pclasses\n",
    "#### Most of older people survived are in the Pclass 1 group which explains the higher survivability of Males and Females. \n",
    "#### The unfortunate didsaster from the dataset explains how people unselflessly think, how people act when others are in need."
   ]
  }
 ],
 "metadata": {
  "kaggle": {
   "accelerator": "none",
   "dataSources": [
    {
     "databundleVersionId": 26502,
     "sourceId": 3136,
     "sourceType": "competition"
    }
   ],
   "dockerImageVersionId": 30664,
   "isGpuEnabled": false,
   "isInternetEnabled": true,
   "language": "python",
   "sourceType": "notebook"
  },
  "kernelspec": {
   "display_name": "Python 3",
   "language": "python",
   "name": "python3"
  },
  "language_info": {
   "codemirror_mode": {
    "name": "ipython",
    "version": 3
   },
   "file_extension": ".py",
   "mimetype": "text/x-python",
   "name": "python",
   "nbconvert_exporter": "python",
   "pygments_lexer": "ipython3",
   "version": "3.10.13"
  },
  "papermill": {
   "default_parameters": {},
   "duration": 13.118343,
   "end_time": "2024-03-15T08:42:49.520552",
   "environment_variables": {},
   "exception": null,
   "input_path": "__notebook__.ipynb",
   "output_path": "__notebook__.ipynb",
   "parameters": {},
   "start_time": "2024-03-15T08:42:36.402209",
   "version": "2.5.0"
  }
 },
 "nbformat": 4,
 "nbformat_minor": 5
}
